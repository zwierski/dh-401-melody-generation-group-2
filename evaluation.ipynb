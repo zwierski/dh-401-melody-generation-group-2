{
 "cells": [
  {
   "cell_type": "code",
   "execution_count": 8,
   "id": "45ebe828",
   "metadata": {},
   "outputs": [],
   "source": [
    "import numpy as np\n",
    "import pandas as pd\n",
    "import ast"
   ]
  },
  {
   "cell_type": "code",
   "execution_count": 9,
   "id": "ac582dcf",
   "metadata": {},
   "outputs": [
    {
     "data": {
      "text/html": [
       "<div>\n",
       "<style scoped>\n",
       "    .dataframe tbody tr th:only-of-type {\n",
       "        vertical-align: middle;\n",
       "    }\n",
       "\n",
       "    .dataframe tbody tr th {\n",
       "        vertical-align: top;\n",
       "    }\n",
       "\n",
       "    .dataframe thead th {\n",
       "        text-align: right;\n",
       "    }\n",
       "</style>\n",
       "<table border=\"1\" class=\"dataframe\">\n",
       "  <thead>\n",
       "    <tr style=\"text-align: right;\">\n",
       "      <th></th>\n",
       "      <th>piece</th>\n",
       "      <th>beats</th>\n",
       "      <th>pitches</th>\n",
       "      <th>beat_pitch</th>\n",
       "    </tr>\n",
       "  </thead>\n",
       "  <tbody>\n",
       "    <tr>\n",
       "      <th>0</th>\n",
       "      <td>../abc/Polska_i_Dm__cafbff.abc</td>\n",
       "      <td>[[1, 3, 5, 6, 7, 8, 9, 11], [1, 3, 4, 5, 7, 9,...</td>\n",
       "      <td>[[74, 76, 77, 76, 77, 79, 81, 77], [81, 77, 81...</td>\n",
       "      <td>[[(1, 74), (3, 76), (5, 77), (6, 76), (7, 77),...</td>\n",
       "    </tr>\n",
       "    <tr>\n",
       "      <th>1</th>\n",
       "      <td>../abc/Glada_Ryd_1cb655.abc</td>\n",
       "      <td>[[1, 2, 3, 4, 5, 6, 7, 8, 9, 12], [1, 2, 3, 4,...</td>\n",
       "      <td>[[76, 81, 80, 81, 76, 81, 80, 81, 76, 76], [78...</td>\n",
       "      <td>[[(1, 76), (2, 81), (3, 80), (4, 81), (5, 76),...</td>\n",
       "    </tr>\n",
       "    <tr>\n",
       "      <th>2</th>\n",
       "      <td>../abc/_Polska_efter_Petter_Dufva__58c596.abc</td>\n",
       "      <td>[[1, 3, 5, 7, 9], [1, 3, 5, 7, 9, 11], [1, 3, ...</td>\n",
       "      <td>[[74, 73, 74, 78, 69], [67, 66, 64, 67, 66, 62...</td>\n",
       "      <td>[[(1, 74), (3, 73), (5, 74), (7, 78), (9, 69)]...</td>\n",
       "    </tr>\n",
       "    <tr>\n",
       "      <th>3</th>\n",
       "      <td>../abc/Pollonesse_183223_93b57b.abc</td>\n",
       "      <td>[[1, 2, 3, 4, 5, 7, 8, 9, 11, 12], [1, 3, 4, 5...</td>\n",
       "      <td>[[74, 76, 78, 76, 74, 74, 76, 73, 73, 74], [71...</td>\n",
       "      <td>[[(1, 74), (2, 76), (3, 78), (4, 76), (5, 74),...</td>\n",
       "    </tr>\n",
       "    <tr>\n",
       "      <th>4</th>\n",
       "      <td>../abc/Polonäs_i_Gm_efter_Baumgarten_e8ce25.abc</td>\n",
       "      <td>[[11], [1, 2, 3, 4, 5, 6, 7, 8, 9, 10, 11, 12]...</td>\n",
       "      <td>[[69], [70, 72, 74, 72, 72, 70, 69, 70, 67, 66...</td>\n",
       "      <td>[[(11, 69)], [(1, 70), (2, 72), (3, 74), (4, 7...</td>\n",
       "    </tr>\n",
       "  </tbody>\n",
       "</table>\n",
       "</div>"
      ],
      "text/plain": [
       "                                             piece  \\\n",
       "0                   ../abc/Polska_i_Dm__cafbff.abc   \n",
       "1                      ../abc/Glada_Ryd_1cb655.abc   \n",
       "2    ../abc/_Polska_efter_Petter_Dufva__58c596.abc   \n",
       "3              ../abc/Pollonesse_183223_93b57b.abc   \n",
       "4  ../abc/Polonäs_i_Gm_efter_Baumgarten_e8ce25.abc   \n",
       "\n",
       "                                               beats  \\\n",
       "0  [[1, 3, 5, 6, 7, 8, 9, 11], [1, 3, 4, 5, 7, 9,...   \n",
       "1  [[1, 2, 3, 4, 5, 6, 7, 8, 9, 12], [1, 2, 3, 4,...   \n",
       "2  [[1, 3, 5, 7, 9], [1, 3, 5, 7, 9, 11], [1, 3, ...   \n",
       "3  [[1, 2, 3, 4, 5, 7, 8, 9, 11, 12], [1, 3, 4, 5...   \n",
       "4  [[11], [1, 2, 3, 4, 5, 6, 7, 8, 9, 10, 11, 12]...   \n",
       "\n",
       "                                             pitches  \\\n",
       "0  [[74, 76, 77, 76, 77, 79, 81, 77], [81, 77, 81...   \n",
       "1  [[76, 81, 80, 81, 76, 81, 80, 81, 76, 76], [78...   \n",
       "2  [[74, 73, 74, 78, 69], [67, 66, 64, 67, 66, 62...   \n",
       "3  [[74, 76, 78, 76, 74, 74, 76, 73, 73, 74], [71...   \n",
       "4  [[69], [70, 72, 74, 72, 72, 70, 69, 70, 67, 66...   \n",
       "\n",
       "                                          beat_pitch  \n",
       "0  [[(1, 74), (3, 76), (5, 77), (6, 76), (7, 77),...  \n",
       "1  [[(1, 76), (2, 81), (3, 80), (4, 81), (5, 76),...  \n",
       "2  [[(1, 74), (3, 73), (5, 74), (7, 78), (9, 69)]...  \n",
       "3  [[(1, 74), (2, 76), (3, 78), (4, 76), (5, 74),...  \n",
       "4  [[(11, 69)], [(1, 70), (2, 72), (3, 74), (4, 7...  "
      ]
     },
     "execution_count": 9,
     "metadata": {},
     "output_type": "execute_result"
    }
   ],
   "source": [
    "data_test = pd.read_csv('./intermediate_files/test.csv')\n",
    "data_test.head()"
   ]
  },
  {
   "cell_type": "code",
   "execution_count": 10,
   "id": "3081d6ad",
   "metadata": {},
   "outputs": [
    {
     "name": "stdout",
     "output_type": "stream",
     "text": [
      "0      [[(1, 74), (3, 76), (5, 77), (6, 76), (7, 77),...\n",
      "1      [[(1, 76), (2, 81), (3, 80), (4, 81), (5, 76),...\n",
      "2      [[(1, 74), (3, 73), (5, 74), (7, 78), (9, 69)]...\n",
      "3      [[(1, 74), (2, 76), (3, 78), (4, 76), (5, 74),...\n",
      "4      [[(11, 69)], [(1, 70), (2, 72), (3, 74), (4, 7...\n",
      "                             ...                        \n",
      "116    [[(11, 72), (12, 70)], [(1, 69), (2, 72), (3, ...\n",
      "117    [[(1, 65), (2, 69), (3, 72), (7, 70), (8, 74),...\n",
      "118    [[(1, 76), (3, 72), (5, 69), (6, 71), (7, 72),...\n",
      "119    [[(1, 74), (3, 79), (5, 79), (7, 78), (9, 78),...\n",
      "120    [[(11, 69)], [(1, 74), (4, 78), (5, 81), (7, 8...\n",
      "Name: beat_pitch, Length: 121, dtype: object\n"
     ]
    }
   ],
   "source": [
    "data_test['beat_pitch'] = data_test['beat_pitch'].apply(ast.literal_eval)\n",
    "print(data_test['beat_pitch'])"
   ]
  },
  {
   "cell_type": "code",
   "execution_count": 26,
   "id": "69cd7d89",
   "metadata": {},
   "outputs": [],
   "source": [
    "def format_transition_1(piece):\n",
    "    # Transfer the beat_pitch format to 12-position 1-12 scale format\n",
    "    # arg: 1.piece: one piece of music in beat_pitch format\n",
    "    # return: 1.re: the transfer format of the piece, re is in shape of number_of_bars * 12\n",
    "    re=np.zeros((len(piece),12))\n",
    "    for i in range(len(piece)):\n",
    "        bar=piece[i]    \n",
    "        for j in range(len(bar)):\n",
    "            midi_num=bar[j][1]%12\n",
    "        if(bar[j][1]%12==0):\n",
    "            midi_num=12\n",
    "        re[i][bar[j][0]-1]=midi_num\n",
    "    return re  "
   ]
  },
  {
   "cell_type": "code",
   "execution_count": 27,
   "id": "4417ad7f",
   "metadata": {},
   "outputs": [],
   "source": [
    "def format_transition_2(piece):\n",
    "    # Transfer the beat_pitch format to 12-position 61-72 scale format\n",
    "    # arg: 1.piece: one piece of music in beat_pitch format\n",
    "    # return: 1.re: the transfer format of the piece, re is in shape of number_of_bars * 12\n",
    "    re=np.zeros((len(piece),12))\n",
    "    for i in range(len(piece)):\n",
    "        bar=piece[i]    \n",
    "        for j in range(len(bar)):\n",
    "            midi_num=bar[j][1]%12+60\n",
    "        if(bar[j][1]%12==0):\n",
    "            midi_num=72\n",
    "        re[i][bar[j][0]-1]=midi_num\n",
    "    return re  "
   ]
  },
  {
   "cell_type": "code",
   "execution_count": 30,
   "id": "4c1c83d2",
   "metadata": {},
   "outputs": [],
   "source": [
    "def compare(generated_piece,test_piece):\n",
    "    # arg: 1.generated_piece: the piece generated by ourselves. 2. test_piece: one piece in test set.\n",
    "    # retrun 1.difference: the difference between two input pieces, the larger the more different of the two pieces\n",
    "    \n",
    "    difference=0\n",
    "    generated_piece_re=format_transition_1(generated_piece)\n",
    "    test_piece_re=format_transition_1(test_piece)\n",
    "    compare_bar_num=len(generated_piece) if len(generated_piece)<len(test_piece) else len(test_piece) # select the piece which has the smaller number of bars\n",
    "    for i in range(compare_bar_num):\n",
    "        for j in range(12):\n",
    "            difference=difference+abs(generated_piece_re[i][j]-test_piece_re[i][j])\n",
    "    return difference"
   ]
  },
  {
   "cell_type": "code",
   "execution_count": 33,
   "id": "11abfcad",
   "metadata": {},
   "outputs": [
    {
     "name": "stdout",
     "output_type": "stream",
     "text": [
      "0\n"
     ]
    }
   ],
   "source": [
    "# An example\n",
    "data_train = pd.read_csv('./intermediate_files/train.csv')\n",
    "data_train['beat_pitch'] = data_train['beat_pitch'].apply(ast.literal_eval)\n",
    "generated_piece=data_train['beat_pitch'][88]\n",
    "\n",
    "min_difference=0\n",
    "for i in range(len(data_test['beat_pitch'])):\n",
    "    difference=compare(generated_piece,data_test['beat_pitch'][i])\n",
    "    if(difference<min_difference):\n",
    "        min_difference=difference\n",
    "print(min_difference)"
   ]
  },
  {
   "cell_type": "code",
   "execution_count": null,
   "id": "e92039a0",
   "metadata": {},
   "outputs": [],
   "source": []
  }
 ],
 "metadata": {
  "kernelspec": {
   "display_name": "Python 3",
   "language": "python",
   "name": "python3"
  },
  "language_info": {
   "codemirror_mode": {
    "name": "ipython",
    "version": 3
   },
   "file_extension": ".py",
   "mimetype": "text/x-python",
   "name": "python",
   "nbconvert_exporter": "python",
   "pygments_lexer": "ipython3",
   "version": "3.8.3"
  }
 },
 "nbformat": 4,
 "nbformat_minor": 5
}
