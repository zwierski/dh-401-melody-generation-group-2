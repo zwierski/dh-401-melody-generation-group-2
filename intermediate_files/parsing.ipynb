{
 "cells": [
  {
   "attachments": {},
   "cell_type": "markdown",
   "metadata": {},
   "source": [
    "**Goal:** Parse the abc music files to only get the elements related to the rhythm."
   ]
  },
  {
   "cell_type": "code",
   "execution_count": 19,
   "metadata": {},
   "outputs": [],
   "source": [
    "# Imports\n",
    "import pandas as pd\n",
    "import music21 as m21\n",
    "import os\n",
    "import textract\n",
    "import pathlib"
   ]
  },
  {
   "cell_type": "code",
   "execution_count": 20,
   "metadata": {},
   "outputs": [],
   "source": [
    "# Function that, from an abc file, gets the beat distribution of every bar of the piece\n",
    "# Returns an array (piece) of arrays (bars)\n",
    "def extractBeatArray(path):\n",
    "\n",
    "    # getting the parsable score\n",
    "    sample = m21.converter.parse(path)\n",
    "    part = sample.parts[0]\n",
    "    notes = part.recurse().notes\n",
    "    length_in_bars = int(sample.duration.quarterLength/sample.getTimeSignatures()[0].numerator) \n",
    "    # should be numerator*(denominator/4), but here denominator is already 4 since all pieces are in 3/4\n",
    "    \n",
    "    bars = []\n",
    "\n",
    "    # iteratively adding every beat of every bar. Each bar is a list and the piece is a list of bars i.e. a list of lists\n",
    "    for i in range(0, length_in_bars):\n",
    "        if part.measure(i) is not None:\n",
    "            notes = part.measure(i).notes\n",
    "            beats = []\n",
    "            for n in notes:\n",
    "                beats.append(n.beat)\n",
    "                    \n",
    "        bars.append(beats)\n",
    "        i += 1\n",
    "\n",
    "    return bars"
   ]
  },
  {
   "cell_type": "code",
   "execution_count": 21,
   "metadata": {},
   "outputs": [
    {
     "name": "stdout",
     "output_type": "stream",
     "text": [
      "599 pieces were analysed.\n",
      "585 pieces were correctly parsed.\n"
     ]
    }
   ],
   "source": [
    "# Parsing the dataset with the above function\n",
    "\n",
    "data = pd.DataFrame(columns=['piece', 'notes'])\n",
    "\n",
    "path = \"./abc/_1814_698087.abc\"\n",
    "\n",
    "directory = './abc'\n",
    "\n",
    "pieces = 0 # check every piece in the directory (599) is encoded\n",
    "\n",
    "for name in os.listdir(directory):\n",
    "    pieces += 1\n",
    "    path = directory + '/' + name \n",
    "    bars = []\n",
    "    try:\n",
    "        bars = extractBeatArray(path)\n",
    "    except:\n",
    "        bars = []\n",
    "\n",
    "    if (bars != []): # not adding unparsed pieces to dataframe\n",
    "        data.loc[len(data)] = [path, bars]\n",
    "\n",
    "\n",
    "print(f\"{pieces} pieces were analysed.\")    \n",
    "\n",
    "print(f\"{len(data)} pieces were correctly parsed.\")"
   ]
  },
  {
   "cell_type": "code",
   "execution_count": 22,
   "metadata": {},
   "outputs": [],
   "source": [
    "# List of pieces that throw an exception (9)\n",
    "exceptions = ['./abc/Näckapolska_efter_Anders_Bredal_c55b3d.abc', './abc/Pollonesse_ur_Andreas_Dahlgrens_notbok_no_84_f2a90d.abc',\n",
    "'./abc/Polonäs_a39d56.abc', './abc/Polonäs_efter_Pehr_Andersson_Bild_30_nr_90_d06dcf.abc', './abc/Slängpolska_efter_Olof_Larsson_2f914f.abc',\n",
    "'./abc/_Polonesse_in_G_Moll_no_1_ur_Anders_Larssons_notbok_61aa5e.abc', './abc/_Polonesse_in_G_Måll_no_2_769438.abc', \n",
    "'./abc/_Polonäs_sexdregasamlingen_del_2_nr_70_1b9662.abc', './abc/_Polska_Kringellåt_efter_Snickar_Erik_985b63.abc']\n",
    "\n",
    "# Testing: 14 pieces are registered as note-less, for some reason. The 9 ones that threw an exception + 5 unknown others. \n",
    "# We choose to omit them from the dataset."
   ]
  },
  {
   "cell_type": "code",
   "execution_count": 23,
   "metadata": {},
   "outputs": [],
   "source": [
    "# Function that maps the beat distribution of a bar to a series of numbers between 1 and 12 (position of each sixteenth-note in the bar)\n",
    "def map_beats(notes):\n",
    "    notes_mapped = []\n",
    "    for bar in notes:\n",
    "        bar_mapped = []\n",
    "        for x in bar:\n",
    "            bar_mapped.append(int(4*(x-1)+1))\n",
    "        notes_mapped.append(bar_mapped)\n",
    "    return notes_mapped"
   ]
  },
  {
   "cell_type": "code",
   "execution_count": 24,
   "metadata": {},
   "outputs": [],
   "source": [
    "# Function that maps a series of numbers between 1 and 12 (position of each sixteenth-note in the bar) to a music21 beat distribution\n",
    "def map_beats_reverse(notes):\n",
    "    notes_mapped = []\n",
    "    for bar in notes:\n",
    "        bar_mapped = []\n",
    "        for y in bar:\n",
    "            bar_mapped.append((y+3)/4)\n",
    "        notes_mapped.append(bar_mapped)\n",
    "    return notes_mapped"
   ]
  },
  {
   "cell_type": "code",
   "execution_count": 25,
   "metadata": {},
   "outputs": [
    {
     "name": "stdout",
     "output_type": "stream",
     "text": [
      "[[1.0, 1.5, 2.0, 3.0], [1.0, 1.5, 2.0, 3.0], [1.0, 1.75, 2.0, 2.5, 3.0, 3.5], [1.0, 1.5, 1.75, 2.0, 2.5, 3.0, 3.5], [1.0, 1.5, 2.0, 3.0], [1.0, 1.5, 2.0, 3.0], [1.0, 1.75, 2.0, 2.5, 3.0, 3.5], [1.0, 1.5, 2.0], [1.0, 1.5, 2.0, 2.5, 3.0, 3.5], [1.0, 1.5, 2.0, 2.5, 3.0, 3.5], [1.0, 1.75, 2.0, 2.5, 3.0, 3.5], [1.0, 2.0, 2.25, 2.5, 2.75, 3.0, 3.5], [1.0, 1.5, 2.0, 2.5, 3.0, 3.5], [1.0, 1.5, 2.0, 2.5, 3.0, 3.5], [1.0, 1.75, 2.0, 2.5, 3.0, 3.5], [1.0, 2.0]]\n",
      "[[1, 3, 5, 9], [1, 3, 5, 9], [1, 4, 5, 7, 9, 11], [1, 3, 4, 5, 7, 9, 11], [1, 3, 5, 9], [1, 3, 5, 9], [1, 4, 5, 7, 9, 11], [1, 3, 5], [1, 3, 5, 7, 9, 11], [1, 3, 5, 7, 9, 11], [1, 4, 5, 7, 9, 11], [1, 5, 6, 7, 8, 9, 11], [1, 3, 5, 7, 9, 11], [1, 3, 5, 7, 9, 11], [1, 4, 5, 7, 9, 11], [1, 5]]\n",
      "[[1.0, 1.5, 2.0, 3.0], [1.0, 1.5, 2.0, 3.0], [1.0, 1.75, 2.0, 2.5, 3.0, 3.5], [1.0, 1.5, 1.75, 2.0, 2.5, 3.0, 3.5], [1.0, 1.5, 2.0, 3.0], [1.0, 1.5, 2.0, 3.0], [1.0, 1.75, 2.0, 2.5, 3.0, 3.5], [1.0, 1.5, 2.0], [1.0, 1.5, 2.0, 2.5, 3.0, 3.5], [1.0, 1.5, 2.0, 2.5, 3.0, 3.5], [1.0, 1.75, 2.0, 2.5, 3.0, 3.5], [1.0, 2.0, 2.25, 2.5, 2.75, 3.0, 3.5], [1.0, 1.5, 2.0, 2.5, 3.0, 3.5], [1.0, 1.5, 2.0, 2.5, 3.0, 3.5], [1.0, 1.75, 2.0, 2.5, 3.0, 3.5], [1.0, 2.0]]\n"
     ]
    }
   ],
   "source": [
    "# Testing the function\n",
    "example_notes = data[data['piece'] == './abc/_1814_698087.abc']['notes'].tolist()[0]\n",
    "# when we retrieve a specific piece and convert to list it wraps the piece's array in another array for some reason, hence the [0]\n",
    "# but when doing iterrows we don't have that problem\n",
    "print(example_notes)\n",
    "map_12 = map_beats(example_notes)\n",
    "print(map_12)\n",
    "print(map_beats_reverse(map_12))"
   ]
  },
  {
   "cell_type": "code",
   "execution_count": 26,
   "metadata": {},
   "outputs": [
    {
     "name": "stdout",
     "output_type": "stream",
     "text": [
      "Done\n"
     ]
    },
    {
     "data": {
      "text/html": [
       "<div>\n",
       "<style scoped>\n",
       "    .dataframe tbody tr th:only-of-type {\n",
       "        vertical-align: middle;\n",
       "    }\n",
       "\n",
       "    .dataframe tbody tr th {\n",
       "        vertical-align: top;\n",
       "    }\n",
       "\n",
       "    .dataframe thead th {\n",
       "        text-align: right;\n",
       "    }\n",
       "</style>\n",
       "<table border=\"1\" class=\"dataframe\">\n",
       "  <thead>\n",
       "    <tr style=\"text-align: right;\">\n",
       "      <th></th>\n",
       "      <th>piece</th>\n",
       "      <th>notes</th>\n",
       "    </tr>\n",
       "  </thead>\n",
       "  <tbody>\n",
       "    <tr>\n",
       "      <th>0</th>\n",
       "      <td>./abc/1b651a94a8f8680da3cef1e60705194d.abc</td>\n",
       "      <td>[[1, 3, 5, 6, 7, 8, 9, 11], [1, 3, 5, 6, 7, 8,...</td>\n",
       "    </tr>\n",
       "    <tr>\n",
       "      <th>1</th>\n",
       "      <td>./abc/3679c385a618c89f00d159f418022b39.abc</td>\n",
       "      <td>[[1, 3, 4, 5, 7, 8, 9, 11], [1, 4, 5, 6, 7, 8,...</td>\n",
       "    </tr>\n",
       "    <tr>\n",
       "      <th>2</th>\n",
       "      <td>./abc/60ae81952628613e03d563b0dae8bbc2.abc</td>\n",
       "      <td>[[1, 4, 5, 7, 9, 10, 11, 12], [1, 3, 5, 9, 11]]</td>\n",
       "    </tr>\n",
       "    <tr>\n",
       "      <th>3</th>\n",
       "      <td>./abc/6a7d307d1f0712090e4043a6b4637efa.abc</td>\n",
       "      <td>[[1, 5, 9], [1, 1, 3, 4, 5, 7, 9, 11], [1, 4, ...</td>\n",
       "    </tr>\n",
       "    <tr>\n",
       "      <th>4</th>\n",
       "      <td>./abc/8c6965e3c831e8cb769e578423c12d1e.abc</td>\n",
       "      <td>[[1, 5, 7, 8, 9], [1, 3, 4, 5, 6, 7, 8, 9, 10,...</td>\n",
       "    </tr>\n",
       "  </tbody>\n",
       "</table>\n",
       "</div>"
      ],
      "text/plain": [
       "                                        piece  \\\n",
       "0  ./abc/1b651a94a8f8680da3cef1e60705194d.abc   \n",
       "1  ./abc/3679c385a618c89f00d159f418022b39.abc   \n",
       "2  ./abc/60ae81952628613e03d563b0dae8bbc2.abc   \n",
       "3  ./abc/6a7d307d1f0712090e4043a6b4637efa.abc   \n",
       "4  ./abc/8c6965e3c831e8cb769e578423c12d1e.abc   \n",
       "\n",
       "                                               notes  \n",
       "0  [[1, 3, 5, 6, 7, 8, 9, 11], [1, 3, 5, 6, 7, 8,...  \n",
       "1  [[1, 3, 4, 5, 7, 8, 9, 11], [1, 4, 5, 6, 7, 8,...  \n",
       "2    [[1, 4, 5, 7, 9, 10, 11, 12], [1, 3, 5, 9, 11]]  \n",
       "3  [[1, 5, 9], [1, 1, 3, 4, 5, 7, 9, 11], [1, 4, ...  \n",
       "4  [[1, 5, 7, 8, 9], [1, 3, 4, 5, 6, 7, 8, 9, 10,...  "
      ]
     },
     "execution_count": 26,
     "metadata": {},
     "output_type": "execute_result"
    }
   ],
   "source": [
    "# Using the mapping function on every piece\n",
    "data_mapped = data.copy()\n",
    "\n",
    "for _, d in data_mapped.iterrows():\n",
    "    d['notes'] = map_beats(d['notes'])\n",
    "\n",
    "print(\"Done\")\n",
    "\n",
    "data_mapped.head() # our dataframe for the model!"
   ]
  },
  {
   "cell_type": "code",
   "execution_count": 27,
   "metadata": {},
   "outputs": [
    {
     "name": "stdout",
     "output_type": "stream",
     "text": [
      "438\n",
      "147\n"
     ]
    }
   ],
   "source": [
    "# Splitting the data into train and test\n",
    "from sklearn.model_selection import train_test_split\n",
    "\n",
    "x_train, x_test = train_test_split(data_mapped) # split 75% train 25% test\n",
    "\n",
    "print(len(x_train))\n",
    "print(len(x_test))"
   ]
  },
  {
   "cell_type": "code",
   "execution_count": 28,
   "metadata": {},
   "outputs": [],
   "source": [
    "# Writing train and test to csv\n",
    "x_train.to_csv(\"train.csv\", index=False)\n",
    "x_test.to_csv(\"test.csv\", index=False)"
   ]
  }
 ],
 "metadata": {
  "kernelspec": {
   "display_name": "ada",
   "language": "python",
   "name": "python3"
  },
  "language_info": {
   "codemirror_mode": {
    "name": "ipython",
    "version": 3
   },
   "file_extension": ".py",
   "mimetype": "text/x-python",
   "name": "python",
   "nbconvert_exporter": "python",
   "pygments_lexer": "ipython3",
   "version": "3.9.13"
  },
  "orig_nbformat": 4
 },
 "nbformat": 4,
 "nbformat_minor": 2
}
