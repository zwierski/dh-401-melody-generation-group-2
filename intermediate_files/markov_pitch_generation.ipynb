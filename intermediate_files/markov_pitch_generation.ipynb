{
 "cells": [
  {
   "cell_type": "code",
   "execution_count": 9,
   "metadata": {},
   "outputs": [],
   "source": [
    "import numpy as np\n",
    "import pandas as pd\n",
    "import music21\n",
    "\n",
    "np.random.seed(401)"
   ]
  },
  {
   "cell_type": "code",
   "execution_count": 10,
   "metadata": {},
   "outputs": [
    {
     "data": {
      "text/html": [
       "<div>\n",
       "<style scoped>\n",
       "    .dataframe tbody tr th:only-of-type {\n",
       "        vertical-align: middle;\n",
       "    }\n",
       "\n",
       "    .dataframe tbody tr th {\n",
       "        vertical-align: top;\n",
       "    }\n",
       "\n",
       "    .dataframe thead th {\n",
       "        text-align: right;\n",
       "    }\n",
       "</style>\n",
       "<table border=\"1\" class=\"dataframe\">\n",
       "  <thead>\n",
       "    <tr style=\"text-align: right;\">\n",
       "      <th></th>\n",
       "      <th>piece</th>\n",
       "      <th>beats</th>\n",
       "      <th>pitches</th>\n",
       "    </tr>\n",
       "  </thead>\n",
       "  <tbody>\n",
       "    <tr>\n",
       "      <th>0</th>\n",
       "      <td>../abc/_Polonäs_ur_Andreas_Dahlgrens_notbok_nr...</td>\n",
       "      <td>[[1, 3, 5, 7, 9, 11], [1, 3, 5, 9], [1, 5, 7, ...</td>\n",
       "      <td>[[70, 69, 67, 69, 70, 72], [74, 76, 77, 74], [...</td>\n",
       "    </tr>\n",
       "    <tr>\n",
       "      <th>1</th>\n",
       "      <td>../abc/_Polska_efter_ByssKalle_nr_36_a115df.abc</td>\n",
       "      <td>[[1, 3, 4, 5, 7, 8, 9, 11, 12], [1, 2, 3, 4, 5...</td>\n",
       "      <td>[[76, 76, 79, 77, 77, 79, 76, 76, 79], [77, 76...</td>\n",
       "    </tr>\n",
       "    <tr>\n",
       "      <th>2</th>\n",
       "      <td>../abc/Polonäs_i_G_efter_Johan_Eric_Blomgren_4...</td>\n",
       "      <td>[[1, 3, 5, 7, 9, 11, 12], [1, 2, 3, 4, 5, 6, 7...</td>\n",
       "      <td>[[67, 71, 71, 74, 74, 79, 74], [72, 71, 72, 76...</td>\n",
       "    </tr>\n",
       "    <tr>\n",
       "      <th>3</th>\n",
       "      <td>../abc/Polska_från_Vrigstad_c46508.abc</td>\n",
       "      <td>[[1, 2, 3, 4, 5, 6, 7, 8, 9, 10, 11, 12], [1, ...</td>\n",
       "      <td>[[74, 73, 74, 73, 74, 73, 74, 73, 74, 73, 74, ...</td>\n",
       "    </tr>\n",
       "    <tr>\n",
       "      <th>4</th>\n",
       "      <td>../abc/Polonäs_32c37e.abc</td>\n",
       "      <td>[[1, 3, 5, 7, 9, 11], [1, 3, 5, 7, 9, 11], [1,...</td>\n",
       "      <td>[[62, 66, 69, 74, 78, 81], [81, 78, 79, 76, 78...</td>\n",
       "    </tr>\n",
       "  </tbody>\n",
       "</table>\n",
       "</div>"
      ],
      "text/plain": [
       "                                               piece  \\\n",
       "0  ../abc/_Polonäs_ur_Andreas_Dahlgrens_notbok_nr...   \n",
       "1    ../abc/_Polska_efter_ByssKalle_nr_36_a115df.abc   \n",
       "2  ../abc/Polonäs_i_G_efter_Johan_Eric_Blomgren_4...   \n",
       "3             ../abc/Polska_från_Vrigstad_c46508.abc   \n",
       "4                          ../abc/Polonäs_32c37e.abc   \n",
       "\n",
       "                                               beats  \\\n",
       "0  [[1, 3, 5, 7, 9, 11], [1, 3, 5, 9], [1, 5, 7, ...   \n",
       "1  [[1, 3, 4, 5, 7, 8, 9, 11, 12], [1, 2, 3, 4, 5...   \n",
       "2  [[1, 3, 5, 7, 9, 11, 12], [1, 2, 3, 4, 5, 6, 7...   \n",
       "3  [[1, 2, 3, 4, 5, 6, 7, 8, 9, 10, 11, 12], [1, ...   \n",
       "4  [[1, 3, 5, 7, 9, 11], [1, 3, 5, 7, 9, 11], [1,...   \n",
       "\n",
       "                                             pitches  \n",
       "0  [[70, 69, 67, 69, 70, 72], [74, 76, 77, 74], [...  \n",
       "1  [[76, 76, 79, 77, 77, 79, 76, 76, 79], [77, 76...  \n",
       "2  [[67, 71, 71, 74, 74, 79, 74], [72, 71, 72, 76...  \n",
       "3  [[74, 73, 74, 73, 74, 73, 74, 73, 74, 73, 74, ...  \n",
       "4  [[62, 66, 69, 74, 78, 81], [81, 78, 79, 76, 78...  "
      ]
     },
     "execution_count": 10,
     "metadata": {},
     "output_type": "execute_result"
    }
   ],
   "source": [
    "data = pd.read_csv('train.csv')\n",
    "data.head()"
   ]
  },
  {
   "cell_type": "code",
   "execution_count": 11,
   "metadata": {},
   "outputs": [],
   "source": [
    "import ast\n",
    "# change the note column to list\n",
    "data['beats'] = data['beats'].apply(ast.literal_eval)\n",
    "data['pitches'] = data['pitches'].apply(ast.literal_eval)"
   ]
  },
  {
   "cell_type": "code",
   "execution_count": null,
   "metadata": {},
   "outputs": [],
   "source": []
  }
 ],
 "metadata": {
  "kernelspec": {
   "display_name": "base",
   "language": "python",
   "name": "python3"
  },
  "language_info": {
   "codemirror_mode": {
    "name": "ipython",
    "version": 3
   },
   "file_extension": ".py",
   "mimetype": "text/x-python",
   "name": "python",
   "nbconvert_exporter": "python",
   "pygments_lexer": "ipython3",
   "version": "3.8.5"
  },
  "orig_nbformat": 4
 },
 "nbformat": 4,
 "nbformat_minor": 2
}
